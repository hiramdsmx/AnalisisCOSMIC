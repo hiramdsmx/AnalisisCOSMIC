{
 "cells": [
  {
   "cell_type": "markdown",
   "metadata": {},
   "source": [
    "<table style=\"border: none; border-collapse: collapse;\">\n",
    "  <tr>\n",
    "    <td style=\"width: 10%; border: none;\"><img src=\"../images/log_metricas.png\" alt=\"Logo\" style=\"width: 100%;\" /></td>\n",
    "    <td style=\"font-size: 1.5em; border: none; padding-left: 10px;\">Proyecto de Implementación del Modelo de Estimación COSMIC en una entidad del Gobierno Federal en México</td>\n",
    "  </tr>\n",
    "</table>"
   ]
  },
  {
   "cell_type": "markdown",
   "metadata": {},
   "source": [
    "##### <h3 style=\"color: #5D9EC1;\">Índice </h3>\n",
    "\n",
    "1. 🔢 Sobre la recopilación de métricas para implementar el modelo de estimación *COSMIC*\n",
    "2. 📐 Distribución de fases en el desarrollo de software (*Modelo en Cascada*)\n",
    "3. 📶 Resumen de los *CFP* obtenidos\n",
    "4. ➡️ *CFP* Ajustados\n",
    "5. 📏 *CFP* ajustados para estimar el proyecto a COSTO FIJO (solo fase de desarrollo, pruebas y liberación)\n",
    "6. 🅿️ Factor de productividad\n",
    "7. 🚩 Total de horas estimadas para la fase de Desarrrollo, Pruebas y Liberación\n",
    "8. 🔑 Conclusiones"
   ]
  },
  {
   "cell_type": "markdown",
   "metadata": {},
   "source": [
    "---\n",
    "##### <h3 style=\"color: #5D9EC1;\"> 1. 🔢 Sobre la recopilación de métricas para implementar el modelo de estimación *COSMIC* </h3>\n",
    "\n",
    "* El método COSMIC ofrece un método estandarizado de medición de un tamaño funcional del software de los dominios conocidos comúnmente como 'aplicación de negocios’ (o ‘MIS’) de software, software en ‘tiempo real’, software de ‘infraestructura’ y algunos tipos de científicos / software de ingeniería.\n",
    "  \n",
    "* El método de medición COSMIC consiste en la aplicación de un conjunto de modelos, principios, reglas y procesos a los Requisitos Funcionales de los Usuarios (FUR) de una determinada aplicación de software. El resultado es un “valor de una cantidad” numérico (tal y como se define en ISO), que representa el tamaño funcional de la aplicación de software.\n",
    "\n",
    "* La unidad de tamaño funcional del método COSMIC es \"1\" COSMIC Function Point (CFP), que equivale a un movimiento de datos de acuerdo a las reglas del método.\n",
    "  \n",
    "* Cada CFP puede ser tipificado para el modelo que se implemente en entradas, salidas,lecturas y escritura de datos, considerando que todo sistema a medir contiene estas operaciones.\n",
    "  \n",
    "* El tamaño funcional medido por el método COSMIC está diseñado para depender solo de los FUR del software que va a ser medido, es decir, de la funcionalidad del software, que puede ser definida como: “el procesamiento de la información que el software debe realizar para sus usuarios”, por lo tanto, la medición es independiente de cualquier requerimiento o restricciones técnicas o ambientales. "
   ]
  },
  {
   "cell_type": "markdown",
   "metadata": {},
   "source": [
    "🔶 Para generar los insumos que requiere el modelo COSMIC y considerando que la entidad gubernamental era de nueva creación, no se contaba con información histórica de proyectos pasados, fue así que se decidió concluir la fase de análisis con recursos de la entidad y de la fábrica de software bajo el esquema de tiempo y materiales, generando el siguiente resumen de esfuerzo:"
   ]
  },
  {
   "cell_type": "code",
   "execution_count": 23,
   "metadata": {},
   "outputs": [],
   "source": [
    "import pandas as pd\n",
    "import numpy as np\n",
    "import seaborn as sns\n",
    "import matplotlib.pyplot as plt"
   ]
  },
  {
   "cell_type": "code",
   "execution_count": 24,
   "metadata": {},
   "outputs": [
    {
     "data": {
      "text/html": [
       "<div>\n",
       "<style scoped>\n",
       "    .dataframe tbody tr th:only-of-type {\n",
       "        vertical-align: middle;\n",
       "    }\n",
       "\n",
       "    .dataframe tbody tr th {\n",
       "        vertical-align: top;\n",
       "    }\n",
       "\n",
       "    .dataframe thead th {\n",
       "        text-align: right;\n",
       "    }\n",
       "</style>\n",
       "<table border=\"1\" class=\"dataframe\">\n",
       "  <thead>\n",
       "    <tr style=\"text-align: right;\">\n",
       "      <th></th>\n",
       "      <th>recurso</th>\n",
       "      <th>tipo_recurso</th>\n",
       "      <th>horas_invertidas_mes</th>\n",
       "      <th>duracion_meses</th>\n",
       "    </tr>\n",
       "  </thead>\n",
       "  <tbody>\n",
       "    <tr>\n",
       "      <th>0</th>\n",
       "      <td>Recurso_01</td>\n",
       "      <td>AN</td>\n",
       "      <td>25</td>\n",
       "      <td>2.5</td>\n",
       "    </tr>\n",
       "    <tr>\n",
       "      <th>1</th>\n",
       "      <td>Recurso_03</td>\n",
       "      <td>FS</td>\n",
       "      <td>160</td>\n",
       "      <td>2.5</td>\n",
       "    </tr>\n",
       "    <tr>\n",
       "      <th>2</th>\n",
       "      <td>Recurso_04</td>\n",
       "      <td>FS</td>\n",
       "      <td>160</td>\n",
       "      <td>2.5</td>\n",
       "    </tr>\n",
       "  </tbody>\n",
       "</table>\n",
       "</div>"
      ],
      "text/plain": [
       "       recurso tipo_recurso  horas_invertidas_mes  duracion_meses\n",
       "0  Recurso_01            AN                    25             2.5\n",
       "1   Recurso_03           FS                   160             2.5\n",
       "2   Recurso_04           FS                   160             2.5"
      ]
     },
     "execution_count": 24,
     "metadata": {},
     "output_type": "execute_result"
    }
   ],
   "source": [
    "# A través de la librería de pandas, carga el archivo Horas_RH.csv en un dataframe\n",
    "df_horas_rh = pd.read_csv('../Data/Horas_RH.csv')\n",
    "df_horas_rh.head()"
   ]
  },
  {
   "cell_type": "code",
   "execution_count": 25,
   "metadata": {},
   "outputs": [
    {
     "name": "stdout",
     "output_type": "stream",
     "text": [
      "La cantidad de horas MENSUALES  para la fase de análisis fue de: 345\n",
      "La cantidad de horas TOTALES para la fase de análisis con una duración de [2.5] meses fue de: 862.5\n"
     ]
    }
   ],
   "source": [
    "horas_mensuales = (df_horas_rh['horas_invertidas_mes']).sum()\n",
    "duracion_mensual = df_horas_rh['duracion_meses'].unique()\n",
    "print(f'La cantidad de horas MENSUALES  para la fase de análisis fue de: {horas_mensuales}')\n",
    "horas_totales_analisis = (df_horas_rh['horas_invertidas_mes'] * df_horas_rh['duracion_meses']).sum()\n",
    "print(f'La cantidad de horas TOTALES para la fase de análisis con una duración de {duracion_mensual} meses fue de: {horas_totales_analisis}')"
   ]
  },
  {
   "cell_type": "markdown",
   "metadata": {},
   "source": [
    "---\n",
    "##### <h3 style=\"color: #5D9EC1;\"> 2. 📐 Distribución de fases en el desarrollo de software (*Modelo en Cascada*) </h3>\n",
    "\n",
    "Según las mejores prácticas basadas en estándares internacionales como **ISO/IEC/IEEE 12207**, la duración aproximada de cada fase en el desarrollo de software puede distribuirse de la siguiente manera:\n",
    "\n",
    "#### Distribución típica de fases:\n",
    "\n",
    "| **Fase**                     | **Duración (Porcentaje estimado)** |\n",
    "|------------------------------|-----------------------------------|\n",
    "| **Inicio y planificación**    | 5% - 10%                         |\n",
    "| **Análisis de requisitos**    | 10% - 15%                        |\n",
    "| **Diseño**                   | 15% - 20%                        |\n",
    "| **Construcción (Desarrollo)** | 35% - 50%                        |\n",
    "| **Pruebas**                  | 20% - 25%                        |\n",
    "| **Liberación e implementación** | 5% - 10%                     |\n",
    "\n",
    "#### Consideraciones:\n",
    "-  Estas cifras son orientativas y pueden variar dependiendo del contexto del proyecto y su metodología específica.\n",
    "\n",
    "#### Aplicación del criterio para el proyecto:\n",
    "\n",
    "Con base al estandar **ISO/IEC/IEEE 12207** para el caso del presente proyecto, se consideró que la fase de análisis se concluyó con la terminación de los casos de uso y algunos artefactos de diseño particulares generados bajo el esquema de TIEMPO Y MATERIALES. Por lo que dicho esfuerzo se ponderó en un total del 30% del proyecto, por lo que proyecto de COSTO FIJO  representó el   70% del esfuerzo restante, es decir, se consideraron las fasese de: desarrollo, pruebas y liberación."
   ]
  },
  {
   "cell_type": "markdown",
   "metadata": {},
   "source": [
    "---\n",
    "##### <h3 style=\"color: #5D9EC1;\"> 3. 📶 Resumen de los *CFP* obtenidos </h3>\n",
    "\n",
    "A continuación se presenta el resumen de los CFP del proyecto por medio de la lectura de un archivo CVS y manipulado con la librería de PANDAS 🐼 a un dataframe y SEABORN para su representación gráfica. Los campos y sus descripciones  son los siguiente:\n",
    "\n",
    " * <u>PROCESO_FUNCIONAL</u>: Proceso principal del sistema.\n",
    " * <u>SUB_PROCESO_FUNCIONAL</u>: sub proceso que cumple una función dentro del proceso general.\n",
    " * <u>PROCEDIMIENTO_HIJO</u>: Flujos de trabajo que dependen del sub proceso funcional.\n",
    " * <u>EVENTO_DISPARADOS</u>: Acción del flujo de trabajo encapsulado dentro del procedimiento hijo. \n",
    " * <u>DESCRIPCION</u>: Resumen del fujo de trabajo\n",
    " * <u>GRUPO DE DATOS</u>: Detalla los campos detectados y que serán evaluados en términos de LECTURA (R), MOSTRAR (X),CAPTURA (E) y GURDADO (W).\n",
    " * <u>TIPO_MOV</u>: Representa la tipificación de los diferentes movimientos del modelo COSMIC.\n",
    " * <u>CFP</u>: Suma de los CFP totales para cada uno de los eventos disparadores. \n",
    "\n",
    "Como nota aclaratoria se aclara que la información presentada fue modificada para evitar riesgos en la privacidad de la información de la entidad."
   ]
  },
  {
   "cell_type": "code",
   "execution_count": 26,
   "metadata": {},
   "outputs": [
    {
     "data": {
      "text/html": [
       "<div>\n",
       "<style scoped>\n",
       "    .dataframe tbody tr th:only-of-type {\n",
       "        vertical-align: middle;\n",
       "    }\n",
       "\n",
       "    .dataframe tbody tr th {\n",
       "        vertical-align: top;\n",
       "    }\n",
       "\n",
       "    .dataframe thead th {\n",
       "        text-align: right;\n",
       "    }\n",
       "</style>\n",
       "<table border=\"1\" class=\"dataframe\">\n",
       "  <thead>\n",
       "    <tr style=\"text-align: right;\">\n",
       "      <th></th>\n",
       "      <th>PROCESO_FUNCIONAL</th>\n",
       "      <th>SUB_PROCESO_FUNCIONAL</th>\n",
       "      <th>PROCEDIMIENTO_HIJO</th>\n",
       "      <th>EVENTO_DISPARADOR</th>\n",
       "      <th>DESCRIPCION</th>\n",
       "      <th>GRUPO_DATOS</th>\n",
       "      <th>TIPO_MOVIMIENTO</th>\n",
       "      <th>CFP</th>\n",
       "    </tr>\n",
       "  </thead>\n",
       "  <tbody>\n",
       "    <tr>\n",
       "      <th>0</th>\n",
       "      <td>PROC_01</td>\n",
       "      <td>INFRAESTRUCTURA</td>\n",
       "      <td>SELECCION DE ###### DEL ######</td>\n",
       "      <td>MUESTRA ######</td>\n",
       "      <td>Se leen los catalogos</td>\n",
       "      <td>#Descripcion detallada de campos</td>\n",
       "      <td>R</td>\n",
       "      <td>2</td>\n",
       "    </tr>\n",
       "    <tr>\n",
       "      <th>1</th>\n",
       "      <td>PROC_01</td>\n",
       "      <td>INFRAESTRUCTURA</td>\n",
       "      <td>SELECCION DE ###### DEL ######</td>\n",
       "      <td>MUESTRA ######</td>\n",
       "      <td>Se muestran los catalogos</td>\n",
       "      <td>#Descripcion detallada de campos</td>\n",
       "      <td>X</td>\n",
       "      <td>3</td>\n",
       "    </tr>\n",
       "    <tr>\n",
       "      <th>2</th>\n",
       "      <td>PROC_01</td>\n",
       "      <td>INFRAESTRUCTURA</td>\n",
       "      <td>SELECCION DE ###### DEL ######</td>\n",
       "      <td>MUESTRA ######</td>\n",
       "      <td>Se lee informacion de las ###### del ######</td>\n",
       "      <td>#Descripcion detallada de campos</td>\n",
       "      <td>R</td>\n",
       "      <td>1</td>\n",
       "    </tr>\n",
       "    <tr>\n",
       "      <th>3</th>\n",
       "      <td>PROC_01</td>\n",
       "      <td>INFRAESTRUCTURA</td>\n",
       "      <td>SELECCION DE ###### DEL ######</td>\n",
       "      <td>MUESTRA ######</td>\n",
       "      <td>Se muestra la informacion de la ###### selecci...</td>\n",
       "      <td>#Descripcion detallada de campos</td>\n",
       "      <td>X</td>\n",
       "      <td>1</td>\n",
       "    </tr>\n",
       "    <tr>\n",
       "      <th>4</th>\n",
       "      <td>PROC_01</td>\n",
       "      <td>INFRAESTRUCTURA</td>\n",
       "      <td>SELECCION DE ###### DEL ######</td>\n",
       "      <td>MUESTRA ######</td>\n",
       "      <td>Se leen mensajes de error</td>\n",
       "      <td>#Descripcion detallada de campos</td>\n",
       "      <td>R</td>\n",
       "      <td>1</td>\n",
       "    </tr>\n",
       "  </tbody>\n",
       "</table>\n",
       "</div>"
      ],
      "text/plain": [
       "  PROCESO_FUNCIONAL SUB_PROCESO_FUNCIONAL              PROCEDIMIENTO_HIJO  \\\n",
       "0           PROC_01       INFRAESTRUCTURA  SELECCION DE ###### DEL ######   \n",
       "1           PROC_01       INFRAESTRUCTURA  SELECCION DE ###### DEL ######   \n",
       "2           PROC_01       INFRAESTRUCTURA  SELECCION DE ###### DEL ######   \n",
       "3           PROC_01       INFRAESTRUCTURA  SELECCION DE ###### DEL ######   \n",
       "4           PROC_01       INFRAESTRUCTURA  SELECCION DE ###### DEL ######   \n",
       "\n",
       "  EVENTO_DISPARADOR                                        DESCRIPCION  \\\n",
       "0    MUESTRA ######                              Se leen los catalogos   \n",
       "1    MUESTRA ######                          Se muestran los catalogos   \n",
       "2    MUESTRA ######        Se lee informacion de las ###### del ######   \n",
       "3    MUESTRA ######  Se muestra la informacion de la ###### selecci...   \n",
       "4    MUESTRA ######                          Se leen mensajes de error   \n",
       "\n",
       "                        GRUPO_DATOS TIPO_MOVIMIENTO  CFP  \n",
       "0  #Descripcion detallada de campos               R    2  \n",
       "1  #Descripcion detallada de campos               X    3  \n",
       "2  #Descripcion detallada de campos               R    1  \n",
       "3  #Descripcion detallada de campos               X    1  \n",
       "4  #Descripcion detallada de campos               R    1  "
      ]
     },
     "execution_count": 26,
     "metadata": {},
     "output_type": "execute_result"
    }
   ],
   "source": [
    "# A través de la librería de pandas, se carga el archivo resultado_cfp.csv en un dataframe\n",
    "df_cfp = pd.read_csv('../Data/resultadoCFP.csv')\n",
    "\n",
    "df_cfp.head()\n"
   ]
  },
  {
   "cell_type": "code",
   "execution_count": 27,
   "metadata": {},
   "outputs": [
    {
     "name": "stdout",
     "output_type": "stream",
     "text": [
      "<class 'pandas.core.frame.DataFrame'>\n",
      "RangeIndex: 101 entries, 0 to 100\n",
      "Data columns (total 8 columns):\n",
      " #   Column                 Non-Null Count  Dtype \n",
      "---  ------                 --------------  ----- \n",
      " 0   PROCESO_FUNCIONAL      101 non-null    object\n",
      " 1   SUB_PROCESO_FUNCIONAL  101 non-null    object\n",
      " 2   PROCEDIMIENTO_HIJO     101 non-null    object\n",
      " 3   EVENTO_DISPARADOR      100 non-null    object\n",
      " 4   DESCRIPCION            101 non-null    object\n",
      " 5   GRUPO_DATOS            101 non-null    object\n",
      " 6   TIPO_MOVIMIENTO        101 non-null    object\n",
      " 7   CFP                    101 non-null    int64 \n",
      "dtypes: int64(1), object(7)\n",
      "memory usage: 6.4+ KB\n"
     ]
    }
   ],
   "source": [
    "# Información general del dataframe\n",
    "df_cfp.info()"
   ]
  },
  {
   "cell_type": "code",
   "execution_count": 28,
   "metadata": {},
   "outputs": [
    {
     "data": {
      "text/html": [
       "<div>\n",
       "<style scoped>\n",
       "    .dataframe tbody tr th:only-of-type {\n",
       "        vertical-align: middle;\n",
       "    }\n",
       "\n",
       "    .dataframe tbody tr th {\n",
       "        vertical-align: top;\n",
       "    }\n",
       "\n",
       "    .dataframe thead th {\n",
       "        text-align: right;\n",
       "    }\n",
       "</style>\n",
       "<table border=\"1\" class=\"dataframe\">\n",
       "  <thead>\n",
       "    <tr style=\"text-align: right;\">\n",
       "      <th></th>\n",
       "      <th>PROCESO_FUNCIONAL</th>\n",
       "      <th>SUB_PROCESO_FUNCIONAL</th>\n",
       "      <th>PROCEDIMIENTO_HIJO</th>\n",
       "      <th>EVENTO_DISPARADOR</th>\n",
       "      <th>DESCRIPCION</th>\n",
       "      <th>GRUPO_DATOS</th>\n",
       "      <th>TIPO_MOVIMIENTO</th>\n",
       "      <th>CFP</th>\n",
       "    </tr>\n",
       "  </thead>\n",
       "  <tbody>\n",
       "    <tr>\n",
       "      <th>count</th>\n",
       "      <td>101</td>\n",
       "      <td>101</td>\n",
       "      <td>101</td>\n",
       "      <td>100</td>\n",
       "      <td>101</td>\n",
       "      <td>101</td>\n",
       "      <td>101</td>\n",
       "      <td>101.000000</td>\n",
       "    </tr>\n",
       "    <tr>\n",
       "      <th>unique</th>\n",
       "      <td>1</td>\n",
       "      <td>5</td>\n",
       "      <td>7</td>\n",
       "      <td>19</td>\n",
       "      <td>56</td>\n",
       "      <td>1</td>\n",
       "      <td>4</td>\n",
       "      <td>NaN</td>\n",
       "    </tr>\n",
       "    <tr>\n",
       "      <th>top</th>\n",
       "      <td>PROC_01</td>\n",
       "      <td>REGISTRAR Y RECIBIR</td>\n",
       "      <td>02 SELECCIONAR TRAMITE Y REGISTRAR DOCUMENTOS</td>\n",
       "      <td>DATOS DEL ######</td>\n",
       "      <td>Se cargan los catalogos</td>\n",
       "      <td>#Descripcion detallada de campos</td>\n",
       "      <td>X</td>\n",
       "      <td>NaN</td>\n",
       "    </tr>\n",
       "    <tr>\n",
       "      <th>freq</th>\n",
       "      <td>101</td>\n",
       "      <td>41</td>\n",
       "      <td>41</td>\n",
       "      <td>9</td>\n",
       "      <td>12</td>\n",
       "      <td>101</td>\n",
       "      <td>46</td>\n",
       "      <td>NaN</td>\n",
       "    </tr>\n",
       "    <tr>\n",
       "      <th>mean</th>\n",
       "      <td>NaN</td>\n",
       "      <td>NaN</td>\n",
       "      <td>NaN</td>\n",
       "      <td>NaN</td>\n",
       "      <td>NaN</td>\n",
       "      <td>NaN</td>\n",
       "      <td>NaN</td>\n",
       "      <td>1.891089</td>\n",
       "    </tr>\n",
       "    <tr>\n",
       "      <th>std</th>\n",
       "      <td>NaN</td>\n",
       "      <td>NaN</td>\n",
       "      <td>NaN</td>\n",
       "      <td>NaN</td>\n",
       "      <td>NaN</td>\n",
       "      <td>NaN</td>\n",
       "      <td>NaN</td>\n",
       "      <td>1.522504</td>\n",
       "    </tr>\n",
       "    <tr>\n",
       "      <th>min</th>\n",
       "      <td>NaN</td>\n",
       "      <td>NaN</td>\n",
       "      <td>NaN</td>\n",
       "      <td>NaN</td>\n",
       "      <td>NaN</td>\n",
       "      <td>NaN</td>\n",
       "      <td>NaN</td>\n",
       "      <td>1.000000</td>\n",
       "    </tr>\n",
       "    <tr>\n",
       "      <th>25%</th>\n",
       "      <td>NaN</td>\n",
       "      <td>NaN</td>\n",
       "      <td>NaN</td>\n",
       "      <td>NaN</td>\n",
       "      <td>NaN</td>\n",
       "      <td>NaN</td>\n",
       "      <td>NaN</td>\n",
       "      <td>1.000000</td>\n",
       "    </tr>\n",
       "    <tr>\n",
       "      <th>50%</th>\n",
       "      <td>NaN</td>\n",
       "      <td>NaN</td>\n",
       "      <td>NaN</td>\n",
       "      <td>NaN</td>\n",
       "      <td>NaN</td>\n",
       "      <td>NaN</td>\n",
       "      <td>NaN</td>\n",
       "      <td>1.000000</td>\n",
       "    </tr>\n",
       "    <tr>\n",
       "      <th>75%</th>\n",
       "      <td>NaN</td>\n",
       "      <td>NaN</td>\n",
       "      <td>NaN</td>\n",
       "      <td>NaN</td>\n",
       "      <td>NaN</td>\n",
       "      <td>NaN</td>\n",
       "      <td>NaN</td>\n",
       "      <td>3.000000</td>\n",
       "    </tr>\n",
       "    <tr>\n",
       "      <th>max</th>\n",
       "      <td>NaN</td>\n",
       "      <td>NaN</td>\n",
       "      <td>NaN</td>\n",
       "      <td>NaN</td>\n",
       "      <td>NaN</td>\n",
       "      <td>NaN</td>\n",
       "      <td>NaN</td>\n",
       "      <td>6.000000</td>\n",
       "    </tr>\n",
       "  </tbody>\n",
       "</table>\n",
       "</div>"
      ],
      "text/plain": [
       "       PROCESO_FUNCIONAL SUB_PROCESO_FUNCIONAL  \\\n",
       "count                101                   101   \n",
       "unique                 1                     5   \n",
       "top              PROC_01   REGISTRAR Y RECIBIR   \n",
       "freq                 101                    41   \n",
       "mean                 NaN                   NaN   \n",
       "std                  NaN                   NaN   \n",
       "min                  NaN                   NaN   \n",
       "25%                  NaN                   NaN   \n",
       "50%                  NaN                   NaN   \n",
       "75%                  NaN                   NaN   \n",
       "max                  NaN                   NaN   \n",
       "\n",
       "                                   PROCEDIMIENTO_HIJO EVENTO_DISPARADOR  \\\n",
       "count                                             101               100   \n",
       "unique                                              7                19   \n",
       "top     02 SELECCIONAR TRAMITE Y REGISTRAR DOCUMENTOS  DATOS DEL ######   \n",
       "freq                                               41                 9   \n",
       "mean                                              NaN               NaN   \n",
       "std                                               NaN               NaN   \n",
       "min                                               NaN               NaN   \n",
       "25%                                               NaN               NaN   \n",
       "50%                                               NaN               NaN   \n",
       "75%                                               NaN               NaN   \n",
       "max                                               NaN               NaN   \n",
       "\n",
       "                    DESCRIPCION                       GRUPO_DATOS  \\\n",
       "count                       101                               101   \n",
       "unique                       56                                 1   \n",
       "top     Se cargan los catalogos  #Descripcion detallada de campos   \n",
       "freq                         12                               101   \n",
       "mean                        NaN                               NaN   \n",
       "std                         NaN                               NaN   \n",
       "min                         NaN                               NaN   \n",
       "25%                         NaN                               NaN   \n",
       "50%                         NaN                               NaN   \n",
       "75%                         NaN                               NaN   \n",
       "max                         NaN                               NaN   \n",
       "\n",
       "       TIPO_MOVIMIENTO         CFP  \n",
       "count              101  101.000000  \n",
       "unique               4         NaN  \n",
       "top                  X         NaN  \n",
       "freq                46         NaN  \n",
       "mean               NaN    1.891089  \n",
       "std                NaN    1.522504  \n",
       "min                NaN    1.000000  \n",
       "25%                NaN    1.000000  \n",
       "50%                NaN    1.000000  \n",
       "75%                NaN    3.000000  \n",
       "max                NaN    6.000000  "
      ]
     },
     "execution_count": 28,
     "metadata": {},
     "output_type": "execute_result"
    }
   ],
   "source": [
    "# Resumen estadístico del dataframe\n",
    "df_cfp.describe(include='all')"
   ]
  },
  {
   "cell_type": "code",
   "execution_count": 29,
   "metadata": {},
   "outputs": [
    {
     "name": "stdout",
     "output_type": "stream",
     "text": [
      "- Suma total de los CFP a partir de los casos de uso generados en la fase de análisis: 191\n"
     ]
    }
   ],
   "source": [
    "# Suma total de los CFP generados\n",
    "suma_total_cfp = df_cfp['CFP'].sum()\n",
    "print(f'- Suma total de los CFP a partir de los casos de uso generados en la fase de análisis: {suma_total_cfp}')"
   ]
  },
  {
   "cell_type": "code",
   "execution_count": 30,
   "metadata": {},
   "outputs": [
    {
     "data": {
      "image/png": "[encoded data removed]",
      "text/plain": [
       "<Figure size 1000x600 with 1 Axes>"
      ]
     },
     "metadata": {},
     "output_type": "display_data"
    }
   ],
   "source": [
    "# Asegurar que es un DataFrame\n",
    "suma_cfp_por_sub_proceso = df_cfp.groupby('SUB_PROCESO_FUNCIONAL')['CFP'].sum().reset_index()\n",
    "\n",
    "\n",
    "plt.figure(figsize=(10, 6))\n",
    "sns.barplot(data=suma_cfp_por_sub_proceso, \n",
    "            x='SUB_PROCESO_FUNCIONAL', \n",
    "            y='CFP', \n",
    "            hue='SUB_PROCESO_FUNCIONAL', \n",
    "            dodge=False, \n",
    "            palette='viridis')\n",
    "plt.legend([], [], frameon=False)  # Ocultar la leyenda\n",
    "plt.title('Suma de CFP por cada Subproceso Funcional')\n",
    "plt.xlabel('Sub Proceso Funcional')\n",
    "plt.ylabel('Suma de CFP')\n",
    "plt.xticks(rotation=45)\n",
    "\n",
    "# Agregar las etiquetas de suma sobre cada barra\n",
    "for index, row in suma_cfp_por_sub_proceso.iterrows():\n",
    "   plt.text(index, row['CFP'], f'{int(row[\"CFP\"])}', ha='center', va='bottom')\n",
    "\n",
    "plt.show()"
   ]
  },
  {
   "cell_type": "code",
   "execution_count": 31,
   "metadata": {},
   "outputs": [
    {
     "data": {
      "image/png": "[encoded data removed]",
      "text/plain": [
       "<Figure size 1000x600 with 1 Axes>"
      ]
     },
     "metadata": {},
     "output_type": "display_data"
    }
   ],
   "source": [
    "# Asegurar que es un DataFrame\n",
    "suma_cfp_tipo_mov= df_cfp.groupby('TIPO_MOVIMIENTO')['CFP'].sum().reset_index()\n",
    "plt.figure(figsize=(10, 6))\n",
    "sns.barplot(data=suma_cfp_tipo_mov, \n",
    "            x='TIPO_MOVIMIENTO', \n",
    "            y='CFP', \n",
    "            hue='TIPO_MOVIMIENTO', \n",
    "            dodge=False, \n",
    "            palette='viridis')\n",
    "plt.legend([], [], frameon=False)  # Ocultar la leyenda\n",
    "plt.title('Suma de CFP por Tipo de Movimiento')\n",
    "plt.xlabel('Tipo de movimiento CFP')\n",
    "plt.ylabel('')\n",
    "plt.xticks(rotation=45)\n",
    "\n",
    "# Agregar las etiquetas de suma sobre cada barra\n",
    "for index, row in suma_cfp_tipo_mov.iterrows():\n",
    "   plt.text(index, row['CFP'], f'{int(row[\"CFP\"])}', ha='center', va='bottom')"
   ]
  },
  {
   "cell_type": "markdown",
   "metadata": {},
   "source": [
    "--- \n",
    "##### <h3 style=\"color: #5D9EC1;\"> 4. ➡️ *CFP* Ajustados </h3>\n",
    "\n",
    "\n",
    "De acuerdo a los lineamientos del contratro  de servicios entre la entidad y la fábrica de software, se estipuló la necesidad de generar un ajuste a los CFP derivado de las complejidades técnicas y el costo de los recursos por hora. Dicha información por motivos de privacidad, no será presentada, sin embargo para los fines que se requieren, se determinará de forma cercana al valor real un factor de ajuste que será de 1.3 por cada CFP.\n",
    "\n",
    "El resultado de CFP ajustados se presenta a continuación:"
   ]
  },
  {
   "cell_type": "code",
   "execution_count": 32,
   "metadata": {},
   "outputs": [
    {
     "name": "stdout",
     "output_type": "stream",
     "text": [
      "Total de CFP ajustados para el proyecto (incluyendo todas las fases): 248.3\n"
     ]
    }
   ],
   "source": [
    "FACT_AJUSTE_CFP = 1.3\n",
    "total_cfp_ajustados = suma_total_cfp * FACT_AJUSTE_CFP\n",
    "print(f'Total de CFP ajustados para el proyecto (incluyendo todas las fases): {total_cfp_ajustados}')"
   ]
  },
  {
   "cell_type": "markdown",
   "metadata": {},
   "source": [
    "---\n",
    "##### <h3 style=\"color: #5D9EC1;\"> 5.📏 *CFP* Ajustados para estimar el proyecto a COSTO FIJO (solo fase de desarrollo, pruebas y liberación) </h3>\n",
    "\n",
    "\n",
    "Considerando el resultado  total de los CFP ajustados, y con las premisas de distribución de esfuerzo por fase (TIEMPO & MATERIALES y COSTO FIJO) se puede inferir que para el proyecto de COSTO FIJO se requiere  la distribución del esfuerzo del 70% del total de los CFP ajustados.\n"
   ]
  },
  {
   "cell_type": "code",
   "execution_count": 33,
   "metadata": {},
   "outputs": [
    {
     "name": "stdout",
     "output_type": "stream",
     "text": [
      "- Total de CFP ajustados para el proyecto bajo el esquema de COSTO FIJO (fases de desarrollo, pruebas y liberación): 173.81\n"
     ]
    }
   ],
   "source": [
    "total_cfp_COSTO_FIJO = total_cfp_ajustados * .7\n",
    "print(f'- Total de CFP ajustados para el proyecto bajo el esquema de COSTO FIJO (fases de desarrollo, pruebas y liberación): {total_cfp_COSTO_FIJO}')\n"
   ]
  },
  {
   "cell_type": "markdown",
   "metadata": {},
   "source": [
    "---\n",
    "##### <h3 style=\"color: #5D9EC1;\"> 6. 🅿️ Factor de productividad </h3>\n",
    "\n",
    "* Para generar la conversión relacionada con la cantidad de  CFP a una representación de horas de trabajo hombre, se definió la métrica \"Factor de productividad\", la cual dará como resultado la cantidad de horas hombre invertidas por cada CFP y que servirá de referencia para el esfuerzo para el proyecto de COSTO FIJO. \n",
    "\n",
    "* Para calcular el factor de productivad, se tomará la cantidad de CFP ajustados obtenidos previamente y se extraerá el esfuerzo invertido a la fase de análisis que para este caso se ponderó en un 30%, lo que se representa como: 30% DEL VALOR DEL TOTAL DE CFP AJUSTADOS / HORAS INVERTIDAS PARA LA CONCLUSIÓN DEL ANÁLISIS. \n",
    "  \n",
    "* La formula general para la obtención del favor de productividad se muestra a continuación:\n",
    "\n",
    "<table style=\"border: none; border-collapse: collapse;\">\n",
    "  <tr>\n",
    "    <td style=\"width: 40%; border: none;\"><img src=\"../images/formula_fp.png\" alt=\"Logo\" style=\"width: 100%;\" /></td>\n",
    "    <td style=\"font-size: 1.0em; border: none; padding-left: 10px;\"></td>\n",
    "  </tr>\n",
    "</table>\n",
    "\n",
    "\n",
    "\n",
    "\n"
   ]
  },
  {
   "cell_type": "code",
   "execution_count": 34,
   "metadata": {},
   "outputs": [
    {
     "name": "stdout",
     "output_type": "stream",
     "text": [
      "Con base al esfuerzo realizado en la fase de análisis, el factor de productividad para el proyecto es de: 11.58\n"
     ]
    }
   ],
   "source": [
    "cfp_analisis = total_cfp_ajustados * .3\n",
    "factor_productividad = round(horas_totales_analisis / cfp_analisis, 2)\n",
    "\n",
    "print(f'Con base al esfuerzo realizado en la fase de análisis, el factor de productividad para el proyecto es de: {factor_productividad}')\n"
   ]
  },
  {
   "cell_type": "markdown",
   "metadata": {},
   "source": [
    "💡Nota.-  \n",
    "> Es importante mencionar que de acuerdo al \"International Software Benchmarking Standards Group (ISBSG)\" (en adelante ISBSG) la representación de horas hombre por cada CFP oscila entre  7 a 15 horas en proyectos de complejidad media. Tomando en cuenta factores comunes tales como tecnología utilizada, complejidad del dominio, niveles de automatización de pruebas etc. Por lo que el resultado del factor generado en el presente análisis se encuentra dentro de los rangos aceptados. Para mayor información favor de consultar [ISBSG](https://www.isbsg.org/) "
   ]
  },
  {
   "cell_type": "markdown",
   "metadata": {},
   "source": [
    "---\n",
    "##### <h3 style=\"color: #5D9EC1;\"> 7. 🚩 Total de horas estimadas para la fase de Desarrrollo, Pruebas y Liberación </h3>\n",
    "\n",
    "* Finalmente para lograr contar con una estimación inicial del proyecto a COSTO FIJO de las fases de desarrollo, pruebas y liberación, se multiplicará el total de los CFP ajustados definidos para estas fases (70% del total de los CFP) por el factor de productividad generado. "
   ]
  },
  {
   "cell_type": "code",
   "execution_count": 40,
   "metadata": {},
   "outputs": [
    {
     "name": "stdout",
     "output_type": "stream",
     "text": [
      "El total de horas estimadas para el proyecto para las fases de desarrollo, pruebas y liberación bajo el esquema de COSTO FIJO es de : 2012.72\n"
     ]
    }
   ],
   "source": [
    "horas_totales_desarrollo = round(total_cfp_COSTO_FIJO * factor_productividad,2)\n",
    "print(f'El total de horas estimadas para el proyecto para las fases de desarrollo, pruebas y liberación bajo el esquema de COSTO FIJO es de : {horas_totales_desarrollo}')\n"
   ]
  },
  {
   "cell_type": "markdown",
   "metadata": {},
   "source": [
    "---\n",
    "##### <h3 style=\"color: #5D9EC1;\"> 8. 🔑 Conclusiones</h3>\n",
    "\n",
    "\n",
    "A lo largo de la presente hoja de trabajo se realizó lo necesario para explicar lo siguiente:\n",
    "\n",
    "1. Al no contar con información histórica de métricas para el desarrollo de software en la entidad por su reciente creación, se implementó la estrategia de generar la fase de análisis del sistema bajo el esquema de TIEMPO Y MATERIALES, con lo que se consiguieron los siguientes resultados: \n",
    "   * La conclusión de los artefactos de la fase de análisis (casos de uso y algunos artefactos de diseño).\n",
    "   * Base de datos histórica con las Horas hombre invertidas para la fase de análisis.\n",
    "   * La cuantificación de los CFP ajustados del proyecto.\n",
    "\n",
    "2. Con base a lo anterior se logró obtener las siguientes métricas:\n",
    "   * Total de horas invertidas en la fase de análisis.\n",
    "   * Total de horas estimadas para las fases de desarrollo, pruebas y liberación.\n",
    "   * Total de CFP ajustados para la fase de análisis.\n",
    "   * Total de CFP ajustados y estimados para las fases de desarrollo, pruebas y liberación.\n",
    "   * Cálculo del Factor de Productividad.\n",
    "\n",
    "3. Por lo que fue posible la construcción de la primera base de datos con información histórica para el desempeño de proyectos de software para la entidad que sirvió de base para futuros proyectos.\n",
    "   \n",
    "4. Gran parte de la información presentada se modificó para preservar el derecho de privacidad de la entidad.\n",
    "\n",
    "De forma resumida, las métricas obtenidas se presentan a continuación: "
   ]
  },
  {
   "cell_type": "code",
   "execution_count": null,
   "metadata": {},
   "outputs": [
    {
     "data": {
      "text/html": [
       "<div>\n",
       "<style scoped>\n",
       "    .dataframe tbody tr th:only-of-type {\n",
       "        vertical-align: middle;\n",
       "    }\n",
       "\n",
       "    .dataframe tbody tr th {\n",
       "        vertical-align: top;\n",
       "    }\n",
       "\n",
       "    .dataframe thead th {\n",
       "        text-align: right;\n",
       "    }\n",
       "</style>\n",
       "<table border=\"1\" class=\"dataframe\">\n",
       "  <thead>\n",
       "    <tr style=\"text-align: right;\">\n",
       "      <th></th>\n",
       "      <th>Métrica</th>\n",
       "      <th>Resultado</th>\n",
       "    </tr>\n",
       "  </thead>\n",
       "  <tbody>\n",
       "    <tr>\n",
       "      <th>0</th>\n",
       "      <td>Horas invertidas fase análisis</td>\n",
       "      <td>862.50</td>\n",
       "    </tr>\n",
       "    <tr>\n",
       "      <th>1</th>\n",
       "      <td>Horas estimadas fase desarrollo/pruebas/libera...</td>\n",
       "      <td>2012.72</td>\n",
       "    </tr>\n",
       "    <tr>\n",
       "      <th>2</th>\n",
       "      <td>CFP Fase análisis</td>\n",
       "      <td>74.49</td>\n",
       "    </tr>\n",
       "    <tr>\n",
       "      <th>3</th>\n",
       "      <td>CFP fase desarrollo/pruebas/liberación</td>\n",
       "      <td>173.81</td>\n",
       "    </tr>\n",
       "    <tr>\n",
       "      <th>4</th>\n",
       "      <td>Factor de productividad</td>\n",
       "      <td>11.58</td>\n",
       "    </tr>\n",
       "  </tbody>\n",
       "</table>\n",
       "</div>"
      ],
      "text/plain": [
       "                                             Métrica  Resultado\n",
       "0                     Horas invertidas fase análisis     862.50\n",
       "1  Horas estimadas fase desarrollo/pruebas/libera...    2012.72\n",
       "2                                  CFP Fase análisis      74.49\n",
       "3             CFP fase desarrollo/pruebas/liberación     173.81\n",
       "4                            Factor de productividad      11.58"
      ]
     },
     "execution_count": 38,
     "metadata": {},
     "output_type": "execute_result"
    }
   ],
   "source": [
    "#creacion de diccionario de datos para las metricas\n",
    "keys = ['Horas invertidas fase análisis', 'Horas estimadas fase desarrollo/pruebas/liberacion', 'CFP Fase análisis', 'CFP fase desarrollo/pruebas/liberación','Factor de productividad']\n",
    "values = [horas_totales_analisis,horas_totales_desarrollo,cfp_analisis,total_cfp_COSTO_FIJO,factor_productividad]\n",
    "metricas_dict = dict(zip(keys, values))\n",
    "#Envia a un dataframe pandas\n",
    "df_metricas = pd.DataFrame(list(metricas_dict.items()), columns=['Métrica', 'Resultado'])\n",
    "df_metricas\n"
   ]
  },
  {
   "cell_type": "code",
   "execution_count": 39,
   "metadata": {},
   "outputs": [
    {
     "name": "stdout",
     "output_type": "stream",
     "text": [
      "Total de horas del proyecto: 2875.22\n",
      "Total de CFP ajustados: 248.3\n"
     ]
    }
   ],
   "source": [
    "# Sumar las horas del proyecto\n",
    "horas_proyecto = round(df_metricas.loc[0:1, 'Resultado'].sum(),2)\n",
    "\n",
    "# Sumar los CFP del proyecto\n",
    "cfp_totales = round(df_metricas.loc[2:3, 'Resultado'].sum(),2)\n",
    "\n",
    "print(f'Total de horas del proyecto: {horas_proyecto}')\n",
    "print(f'Total de CFP ajustados: {cfp_totales}')"
   ]
  }
 ],
 "metadata": {
  "kernelspec": {
   "display_name": "AnalisisCOSMIC",
   "language": "python",
   "name": "python3"
  },
  "language_info": {
   "codemirror_mode": {
    "name": "ipython",
    "version": 3
   },
   "file_extension": ".py",
   "mimetype": "text/x-python",
   "name": "python",
   "nbconvert_exporter": "python",
   "pygments_lexer": "ipython3",
   "version": "3.10.12"
  }
 },
 "nbformat": 4,
 "nbformat_minor": 2
}
